{
 "cells": [
  {
   "cell_type": "markdown",
   "metadata": {},
   "source": [
    "##### Building a simple CNN in Keras to train a classifier to predict if an input image is a cat or a dog"
   ]
  },
  {
   "cell_type": "code",
   "execution_count": 20,
   "metadata": {},
   "outputs": [],
   "source": [
    "from keras.models import Sequential\n",
    "from keras.layers import Conv2D\n",
    "from keras.layers import MaxPooling2D\n",
    "from keras.layers import Flatten\n",
    "from keras.layers import Dense"
   ]
  },
  {
   "cell_type": "code",
   "execution_count": 9,
   "metadata": {},
   "outputs": [],
   "source": [
    "# Initialising the CNN\n",
    "cat_dog_clf = Sequential()"
   ]
  },
  {
   "cell_type": "code",
   "execution_count": 10,
   "metadata": {},
   "outputs": [],
   "source": [
    "# Convolution\n",
    "cat_dog_clf.add(Conv2D(32, (3, 3), input_shape = (64, 64, 3), activation = 'relu'))"
   ]
  },
  {
   "cell_type": "code",
   "execution_count": 11,
   "metadata": {},
   "outputs": [],
   "source": [
    "# Pooling\n",
    "cat_dog_clf.add(MaxPooling2D(pool_size = (2, 2)))"
   ]
  },
  {
   "cell_type": "code",
   "execution_count": 12,
   "metadata": {},
   "outputs": [],
   "source": [
    "# Adding a second convolutional layer\n",
    "cat_dog_clf.add(Conv2D(32, (3, 3), activation = 'relu'))\n",
    "cat_dog_clf.add(MaxPooling2D(pool_size = (2, 2)))"
   ]
  },
  {
   "cell_type": "code",
   "execution_count": 13,
   "metadata": {},
   "outputs": [],
   "source": [
    "# Flattening\n",
    "cat_dog_clf.add(Flatten())"
   ]
  },
  {
   "cell_type": "code",
   "execution_count": 14,
   "metadata": {},
   "outputs": [],
   "source": [
    "# ANN component\n",
    "cat_dog_clf.add(Dense(units = 128, activation = 'relu'))\n",
    "cat_dog_clf.add(Dense(units = 1, activation = 'sigmoid'))"
   ]
  },
  {
   "cell_type": "code",
   "execution_count": 15,
   "metadata": {},
   "outputs": [],
   "source": [
    "# Compiling the CNN\n",
    "cat_dog_clf.compile(optimizer = 'adam', loss = 'binary_crossentropy', metrics = ['accuracy'])"
   ]
  },
  {
   "cell_type": "code",
   "execution_count": 16,
   "metadata": {},
   "outputs": [],
   "source": [
    "from keras.preprocessing.image import ImageDataGenerator"
   ]
  },
  {
   "cell_type": "code",
   "execution_count": 17,
   "metadata": {},
   "outputs": [],
   "source": [
    "# Data Augmentation\n",
    "train_datagen = ImageDataGenerator(rescale = 1./255,\n",
    "                                   shear_range = 0.2,\n",
    "                                   zoom_range = 0.2,\n",
    "                                   horizontal_flip = True)\n",
    "\n",
    "test_datagen = ImageDataGenerator(rescale = 1./255)"
   ]
  },
  {
   "cell_type": "code",
   "execution_count": 18,
   "metadata": {},
   "outputs": [
    {
     "name": "stdout",
     "output_type": "stream",
     "text": [
      "Found 8000 images belonging to 2 classes.\n",
      "Found 2000 images belonging to 2 classes.\n"
     ]
    }
   ],
   "source": [
    "training_set = train_datagen.flow_from_directory('C:\\\\Users\\\\srish\\\\Desktop\\\\DeepLearning\\\\Convolutional Neural Networks (CNN)\\\\dataset\\\\training_set',\n",
    "                                                 target_size = (64, 64),\n",
    "                                                 batch_size = 32,\n",
    "                                                 class_mode = 'binary')\n",
    "\n",
    "test_set = test_datagen.flow_from_directory('C:\\\\Users\\\\srish\\\\Desktop\\\\DeepLearning\\\\Convolutional Neural Networks (CNN)\\\\dataset\\\\test_set',\n",
    "                                            target_size = (64, 64),\n",
    "                                            batch_size = 32,\n",
    "                                            class_mode = 'binary')"
   ]
  },
  {
   "cell_type": "code",
   "execution_count": 19,
   "metadata": {},
   "outputs": [
    {
     "name": "stdout",
     "output_type": "stream",
     "text": [
      "Epoch 1/25\n",
      "8000/8000 [==============================] - 3057s 382ms/step - loss: 0.3334 - accuracy: 0.8458 - val_loss: 0.9966 - val_accuracy: 0.7936\n",
      "Epoch 2/25\n",
      "8000/8000 [==============================] - 2514s 314ms/step - loss: 0.0946 - accuracy: 0.9643 - val_loss: 0.7954 - val_accuracy: 0.8008\n",
      "Epoch 3/25\n",
      "8000/8000 [==============================] - 2393s 299ms/step - loss: 0.0508 - accuracy: 0.9819 - val_loss: 1.3485 - val_accuracy: 0.8100\n",
      "Epoch 4/25\n",
      "8000/8000 [==============================] - 2232s 279ms/step - loss: 0.0376 - accuracy: 0.9868 - val_loss: 1.5101 - val_accuracy: 0.8061\n",
      "Epoch 5/25\n",
      "8000/8000 [==============================] - 2474s 309ms/step - loss: 0.0292 - accuracy: 0.9901 - val_loss: 1.5006 - val_accuracy: 0.8047\n",
      "Epoch 6/25\n",
      "8000/8000 [==============================] - 2290s 286ms/step - loss: 0.0266 - accuracy: 0.9910 - val_loss: 1.5939 - val_accuracy: 0.8119\n",
      "Epoch 7/25\n",
      "8000/8000 [==============================] - 2573s 322ms/step - loss: 0.0225 - accuracy: 0.9925 - val_loss: 2.1162 - val_accuracy: 0.8160\n",
      "Epoch 8/25\n",
      "8000/8000 [==============================] - 2188s 274ms/step - loss: 0.0189 - accuracy: 0.9937 - val_loss: 0.5718 - val_accuracy: 0.8016\n",
      "Epoch 9/25\n",
      "8000/8000 [==============================] - 2211s 276ms/step - loss: 0.0172 - accuracy: 0.9942 - val_loss: 3.7096 - val_accuracy: 0.8075\n",
      "Epoch 10/25\n",
      " 177/8000 [..............................] - ETA: 34:58 - loss: 0.0172 - accuracy: 0.9949"
     ]
    },
    {
     "name": "stderr",
     "output_type": "stream",
     "text": [
      "E:\\anaconda3\\lib\\site-packages\\keras\\utils\\data_utils.py:616: UserWarning: The input 186 could not be retrieved. It could be because a worker has died.\n",
      "  UserWarning)\n"
     ]
    },
    {
     "name": "stdout",
     "output_type": "stream",
     "text": [
      "8000/8000 [==============================] - 2320s 290ms/step - loss: 0.0155 - accuracy: 0.9949 - val_loss: 0.0976 - val_accuracy: 0.8185\n",
      "Epoch 11/25\n",
      "8000/8000 [==============================] - 2192s 274ms/step - loss: 0.0144 - accuracy: 0.9953 - val_loss: 2.3587 - val_accuracy: 0.8239\n",
      "Epoch 12/25\n",
      "8000/8000 [==============================] - 2191s 274ms/step - loss: 0.0127 - accuracy: 0.9960 - val_loss: 1.3749 - val_accuracy: 0.8147\n",
      "Epoch 13/25\n",
      "8000/8000 [==============================] - 2196s 275ms/step - loss: 0.0130 - accuracy: 0.9958 - val_loss: 1.8863 - val_accuracy: 0.8214\n",
      "Epoch 14/25\n",
      "8000/8000 [==============================] - 2183s 273ms/step - loss: 0.0117 - accuracy: 0.9964 - val_loss: 1.9386 - val_accuracy: 0.8175\n",
      "Epoch 15/25\n",
      "1047/8000 [==>...........................] - ETA: 33:15 - loss: 0.0117 - accuracy: 0.9961"
     ]
    },
    {
     "name": "stderr",
     "output_type": "stream",
     "text": [
      "E:\\anaconda3\\lib\\site-packages\\keras\\utils\\data_utils.py:616: UserWarning: The input 48 could not be retrieved. It could be because a worker has died.\n",
      "  UserWarning)\n"
     ]
    },
    {
     "name": "stdout",
     "output_type": "stream",
     "text": [
      "8000/8000 [==============================] - 2645s 331ms/step - loss: 0.0102 - accuracy: 0.9968 - val_loss: 1.1741 - val_accuracy: 0.8106\n",
      "Epoch 16/25\n",
      "4231/8000 [==============>...............] - ETA: 15:57 - loss: 0.0111 - accuracy: 0.9966"
     ]
    },
    {
     "name": "stderr",
     "output_type": "stream",
     "text": [
      "E:\\anaconda3\\lib\\site-packages\\keras\\utils\\data_utils.py:616: UserWarning: The input 69 could not be retrieved. It could be because a worker has died.\n",
      "  UserWarning)\n"
     ]
    },
    {
     "name": "stdout",
     "output_type": "stream",
     "text": [
      "8000/8000 [==============================] - 2275s 284ms/step - loss: 0.0101 - accuracy: 0.9968 - val_loss: 2.5426 - val_accuracy: 0.8285\n",
      "Epoch 17/25\n",
      "8000/8000 [==============================] - 2227s 278ms/step - loss: 0.0102 - accuracy: 0.9968 - val_loss: 3.5754 - val_accuracy: 0.8184\n",
      "Epoch 18/25\n",
      " 724/8000 [=>............................] - ETA: 30:14 - loss: 0.0080 - accuracy: 0.9975"
     ]
    },
    {
     "name": "stderr",
     "output_type": "stream",
     "text": [
      "E:\\anaconda3\\lib\\site-packages\\keras\\utils\\data_utils.py:616: UserWarning: The input 66 could not be retrieved. It could be because a worker has died.\n",
      "  UserWarning)\n"
     ]
    },
    {
     "name": "stdout",
     "output_type": "stream",
     "text": [
      " 966/8000 [==>...........................] - ETA: 38:46 - loss: 0.0089 - accuracy: 0.9973"
     ]
    },
    {
     "name": "stderr",
     "output_type": "stream",
     "text": [
      "E:\\anaconda3\\lib\\site-packages\\keras\\utils\\data_utils.py:616: UserWarning: The input 149 could not be retrieved. It could be because a worker has died.\n",
      "  UserWarning)\n"
     ]
    },
    {
     "name": "stdout",
     "output_type": "stream",
     "text": [
      "8000/8000 [==============================] - 2348s 294ms/step - loss: 0.0090 - accuracy: 0.9972 - val_loss: 2.9737 - val_accuracy: 0.8105\n",
      "Epoch 19/25\n",
      "6524/8000 [=======================>......] - ETA: 5:57 - loss: 0.0086 - accuracy: 0.9974"
     ]
    },
    {
     "name": "stderr",
     "output_type": "stream",
     "text": [
      "E:\\anaconda3\\lib\\site-packages\\keras\\utils\\data_utils.py:616: UserWarning: The input 15 could not be retrieved. It could be because a worker has died.\n",
      "  UserWarning)\n"
     ]
    },
    {
     "name": "stdout",
     "output_type": "stream",
     "text": [
      "6751/8000 [========================>.....] - ETA: 5:13 - loss: 0.0086 - accuracy: 0.9974"
     ]
    },
    {
     "name": "stderr",
     "output_type": "stream",
     "text": [
      "E:\\anaconda3\\lib\\site-packages\\keras\\utils\\data_utils.py:616: UserWarning: The input 240 could not be retrieved. It could be because a worker has died.\n",
      "  UserWarning)\n"
     ]
    },
    {
     "name": "stdout",
     "output_type": "stream",
     "text": [
      "8000/8000 [==============================] - 2258s 282ms/step - loss: 0.0091 - accuracy: 0.9972 - val_loss: 3.5656 - val_accuracy: 0.8144\n",
      "Epoch 20/25\n",
      "8000/8000 [==============================] - 2188s 273ms/step - loss: 0.0085 - accuracy: 0.9974 - val_loss: 3.1941 - val_accuracy: 0.8225\n",
      "Epoch 21/25\n",
      "3079/8000 [==========>...................] - ETA: 19:51 - loss: 0.0088 - accuracy: 0.9974"
     ]
    },
    {
     "name": "stderr",
     "output_type": "stream",
     "text": [
      "E:\\anaconda3\\lib\\site-packages\\keras\\utils\\data_utils.py:616: UserWarning: The input 194 could not be retrieved. It could be because a worker has died.\n",
      "  UserWarning)\n"
     ]
    },
    {
     "name": "stdout",
     "output_type": "stream",
     "text": [
      "3223/8000 [===========>..................] - ETA: 21:06 - loss: 0.0087 - accuracy: 0.9975"
     ]
    },
    {
     "name": "stderr",
     "output_type": "stream",
     "text": [
      "E:\\anaconda3\\lib\\site-packages\\keras\\utils\\data_utils.py:616: UserWarning: The input 57 could not be retrieved. It could be because a worker has died.\n",
      "  UserWarning)\n"
     ]
    },
    {
     "name": "stdout",
     "output_type": "stream",
     "text": [
      "8000/8000 [==============================] - 2293s 287ms/step - loss: 0.0087 - accuracy: 0.9974 - val_loss: 2.3338 - val_accuracy: 0.8039\n",
      "Epoch 22/25\n",
      "8000/8000 [==============================] - 2161s 270ms/step - loss: 0.0075 - accuracy: 0.9977 - val_loss: 2.1144 - val_accuracy: 0.8007\n",
      "Epoch 23/25\n",
      " 141/8000 [..............................] - ETA: 32:40 - loss: 0.0068 - accuracy: 0.9980"
     ]
    },
    {
     "name": "stderr",
     "output_type": "stream",
     "text": [
      "E:\\anaconda3\\lib\\site-packages\\keras\\utils\\data_utils.py:616: UserWarning: The input 140 could not be retrieved. It could be because a worker has died.\n",
      "  UserWarning)\n"
     ]
    },
    {
     "name": "stdout",
     "output_type": "stream",
     "text": [
      "8000/8000 [==============================] - 2252s 282ms/step - loss: 0.0078 - accuracy: 0.9977 - val_loss: 1.9018 - val_accuracy: 0.8187\n",
      "Epoch 24/25\n",
      "8000/8000 [==============================] - 2188s 273ms/step - loss: 0.0071 - accuracy: 0.9978 - val_loss: 3.9079 - val_accuracy: 0.8174\n",
      "Epoch 25/25\n",
      "8000/8000 [==============================] - 2264s 283ms/step - loss: 0.0075 - accuracy: 0.9978 - val_loss: 2.0577 - val_accuracy: 0.8088\n"
     ]
    },
    {
     "data": {
      "text/plain": [
       "<keras.callbacks.callbacks.History at 0x265ab708688>"
      ]
     },
     "execution_count": 19,
     "metadata": {},
     "output_type": "execute_result"
    }
   ],
   "source": [
    "cat_dog_clf.fit_generator(training_set,\n",
    "                         steps_per_epoch = 8000,\n",
    "                         epochs = 25,\n",
    "                         validation_data = test_set,\n",
    "                         validation_steps = 2000)"
   ]
  },
  {
   "cell_type": "code",
   "execution_count": 28,
   "metadata": {},
   "outputs": [],
   "source": [
    "import numpy as np\n",
    "from keras.preprocessing import image"
   ]
  },
  {
   "cell_type": "code",
   "execution_count": 27,
   "metadata": {},
   "outputs": [],
   "source": [
    "test_image1 = image.load_img('C:\\\\Users\\\\srish\\\\Desktop\\\\single_prediction\\\\dog.jpg', target_size = (64,64))\n",
    "test_image1 = image.img_to_array(test_image1)"
   ]
  },
  {
   "cell_type": "code",
   "execution_count": 29,
   "metadata": {},
   "outputs": [],
   "source": [
    "# add dimension as the predict function requires it which corresponds to the batch\n",
    "test_image1 = np.expand_dims(test_image1, axis = 0)"
   ]
  },
  {
   "cell_type": "code",
   "execution_count": 30,
   "metadata": {},
   "outputs": [],
   "source": [
    "result = cat_dog_clf.predict(test_image1)"
   ]
  },
  {
   "cell_type": "code",
   "execution_count": 31,
   "metadata": {},
   "outputs": [
    {
     "data": {
      "text/plain": [
       "array([[1.]], dtype=float32)"
      ]
     },
     "execution_count": 31,
     "metadata": {},
     "output_type": "execute_result"
    }
   ],
   "source": [
    "result"
   ]
  },
  {
   "cell_type": "code",
   "execution_count": 32,
   "metadata": {},
   "outputs": [
    {
     "data": {
      "text/plain": [
       "{'cats': 0, 'dogs': 1}"
      ]
     },
     "execution_count": 32,
     "metadata": {},
     "output_type": "execute_result"
    }
   ],
   "source": [
    "training_set.class_indices"
   ]
  },
  {
   "cell_type": "code",
   "execution_count": 33,
   "metadata": {},
   "outputs": [
    {
     "name": "stdout",
     "output_type": "stream",
     "text": [
      "The image is predicted to be a dog\n"
     ]
    }
   ],
   "source": [
    "print(\"The image is predicted to be a cat\") if result == 0 else print(\"The image is predicted to be a dog\")"
   ]
  },
  {
   "cell_type": "code",
   "execution_count": 42,
   "metadata": {},
   "outputs": [
    {
     "name": "stdout",
     "output_type": "stream",
     "text": [
      "The image is predicted to be a cat\n"
     ]
    }
   ],
   "source": [
    "test_image2 = image.load_img('C:\\\\Users\\\\srish\\\\Desktop\\\\single_prediction\\\\caat.jpg', target_size = (64,64))\n",
    "test_image2 = image.img_to_array(test_image2)\n",
    "# add dimension as the predict function requires it which corresponds to the batch\n",
    "test_image2 = np.expand_dims(test_image2, axis = 0)\n",
    "result = cat_dog_clf.predict(test_image2)\n",
    "print(\"The image is predicted to be a cat\") if result == 0 else print(\"The image is predicted to be a dog\")"
   ]
  },
  {
   "cell_type": "code",
   "execution_count": null,
   "metadata": {},
   "outputs": [],
   "source": []
  }
 ],
 "metadata": {
  "kernelspec": {
   "display_name": "Python 3",
   "language": "python",
   "name": "python3"
  },
  "language_info": {
   "codemirror_mode": {
    "name": "ipython",
    "version": 3
   },
   "file_extension": ".py",
   "mimetype": "text/x-python",
   "name": "python",
   "nbconvert_exporter": "python",
   "pygments_lexer": "ipython3",
   "version": "3.7.6"
  },
  "toc": {
   "base_numbering": 1,
   "nav_menu": {},
   "number_sections": true,
   "sideBar": true,
   "skip_h1_title": false,
   "title_cell": "Table of Contents",
   "title_sidebar": "Contents",
   "toc_cell": false,
   "toc_position": {},
   "toc_section_display": true,
   "toc_window_display": false
  }
 },
 "nbformat": 4,
 "nbformat_minor": 4
}
